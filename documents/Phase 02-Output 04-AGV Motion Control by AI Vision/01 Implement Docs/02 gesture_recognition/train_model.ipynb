{
 "cells": [
  {
   "cell_type": "code",
   "execution_count": 1,
   "metadata": {},
   "outputs": [
    {
     "name": "stderr",
     "output_type": "stream",
     "text": [
      "d:\\Anaconda\\package\\lib\\site-packages\\numpy\\_distributor_init.py:30: UserWarning: loaded more than 1 DLL from .libs:\n",
      "d:\\Anaconda\\package\\lib\\site-packages\\numpy\\.libs\\libopenblas.PYQHXLVVQ7VESDPUVUADXEVJOBGHJPAY.gfortran-win_amd64.dll\n",
      "d:\\Anaconda\\package\\lib\\site-packages\\numpy\\.libs\\libopenblas.QVLO2T66WEPI7JZ63PS3HMOHFEY472BC.gfortran-win_amd64.dll\n",
      "d:\\Anaconda\\package\\lib\\site-packages\\numpy\\.libs\\libopenblas.WCDJNK7YVMPZQ2ME2ZZHJJRJ3JIKNDB7.gfortran-win_amd64.dll\n",
      "  warnings.warn(\"loaded more than 1 DLL from .libs:\"\n"
     ]
    }
   ],
   "source": [
    "from sklearn.model_selection import train_test_split\n",
    "from tensorflow.keras.utils import to_categorical\n",
    "import cv2\n",
    "import numpy as np\n",
    "import os\n",
    "from matplotlib import pyplot as plt\n",
    "import time\n",
    "import mediapipe as mp"
   ]
  },
  {
   "cell_type": "code",
   "execution_count": 2,
   "metadata": {},
   "outputs": [],
   "source": [
    "actions = np.array(['start', 'end', 'turn_left','turn_right', 'go_forward', 'go_backward'])\n",
    "label_map = {label:num for num, label in enumerate(actions)}"
   ]
  },
  {
   "cell_type": "code",
   "execution_count": 3,
   "metadata": {},
   "outputs": [],
   "source": [
    "# Path for exported data, numpy arrays\n",
    "DATA_PATH = os.path.join('MP_Data') \n",
    "# Thirty videos worth of data\n",
    "no_sequences = 120\n",
    "# Videos are going to be 30 frames in length\n",
    "sequence_length = 15\n",
    "sequences, labels = [], []\n",
    "for action in actions:\n",
    "    for sequence in np.array(os.listdir(os.path.join(DATA_PATH, action))).astype(int):\n",
    "        window = []\n",
    "        for frame_num in range(sequence_length):\n",
    "            res = np.load(os.path.join(DATA_PATH, action, str(sequence), \"{}.npy\".format(frame_num)))\n",
    "            window.append(res)\n",
    "        sequences.append(window)\n",
    "        labels.append(label_map[action])\n",
    "X = np.array(sequences)\n",
    "y = to_categorical(labels).astype(int)\n",
    "X_train, X_test, y_train, y_test = train_test_split(X, y, test_size=0.05)"
   ]
  },
  {
   "cell_type": "code",
   "execution_count": 4,
   "metadata": {},
   "outputs": [],
   "source": [
    "for action in actions: \n",
    "    dirmax = np.max(np.array(os.listdir(os.path.join(DATA_PATH, action))).astype(int))\n",
    "    for sequence in range(1,no_sequences+1):\n",
    "        try: \n",
    "            os.makedirs(os.path.join(DATA_PATH, action, str(dirmax+sequence)))\n",
    "        except:\n",
    "            pass"
   ]
  },
  {
   "cell_type": "code",
   "execution_count": 5,
   "metadata": {},
   "outputs": [],
   "source": [
    "from tensorflow.keras.models import Sequential\n",
    "from tensorflow.keras.layers import LSTM, Dense\n",
    "from tensorflow.keras.callbacks import TensorBoard\n",
    "from tensorflow.keras import regularizers"
   ]
  },
  {
   "cell_type": "code",
   "execution_count": 6,
   "metadata": {},
   "outputs": [],
   "source": [
    "log_dir = os.path.join('Logs')\n",
    "tb_callback = TensorBoard(log_dir=log_dir)"
   ]
  },
  {
   "cell_type": "code",
   "execution_count": 7,
   "metadata": {},
   "outputs": [],
   "source": [
    "model = Sequential()\n",
    "model.add(LSTM(64, return_sequences=True, activation='relu', input_shape=(15,126)))\n",
    "model.add(LSTM(128, return_sequences=True, activation='relu'))\n",
    "model.add(LSTM(64, return_sequences=False, activation='relu'))\n",
    "model.add(Dense(64, activation='relu',kernel_regularizer=regularizers.l2(0.01),\n",
    "                activity_regularizer=regularizers.l1(0.01)))\n",
    "model.add(Dense(32, activation='relu',kernel_regularizer=regularizers.l2(0.01),\n",
    "                activity_regularizer=regularizers.l1(0.01)))\n",
    "model.add(Dense(actions.shape[0], activation='softmax'))\n",
    "model.compile(optimizer='Adam', loss='categorical_crossentropy', metrics=['categorical_accuracy'])"
   ]
  },
  {
   "cell_type": "code",
   "execution_count": 8,
   "metadata": {},
   "outputs": [
    {
     "name": "stdout",
     "output_type": "stream",
     "text": [
      "Epoch 1/2000\n",
      "22/22 [==============================] - 11s 196ms/step - loss: 2.7469 - categorical_accuracy: 0.2804 - val_loss: 2.4473 - val_categorical_accuracy: 0.2222\n",
      "Epoch 2/2000\n",
      "22/22 [==============================] - 1s 39ms/step - loss: 2.3528 - categorical_accuracy: 0.3102 - val_loss: 2.0910 - val_categorical_accuracy: 0.2778\n",
      "Epoch 3/2000\n",
      "22/22 [==============================] - 1s 61ms/step - loss: 2.0474 - categorical_accuracy: 0.3586 - val_loss: 1.8493 - val_categorical_accuracy: 0.3056\n",
      "Epoch 4/2000\n",
      "22/22 [==============================] - 1s 50ms/step - loss: 1.8396 - categorical_accuracy: 0.4281 - val_loss: 1.6731 - val_categorical_accuracy: 0.4444\n",
      "Epoch 5/2000\n",
      "22/22 [==============================] - 1s 45ms/step - loss: 1.6704 - categorical_accuracy: 0.4660 - val_loss: 1.5883 - val_categorical_accuracy: 0.4722\n",
      "Epoch 6/2000\n",
      "22/22 [==============================] - 1s 46ms/step - loss: 1.5630 - categorical_accuracy: 0.5244 - val_loss: 1.3931 - val_categorical_accuracy: 0.6667\n",
      "Epoch 7/2000\n",
      "22/22 [==============================] - 1s 53ms/step - loss: 1.3479 - categorical_accuracy: 0.6392 - val_loss: 1.2875 - val_categorical_accuracy: 0.6667\n",
      "Epoch 8/2000\n",
      "22/22 [==============================] - 1s 49ms/step - loss: 1.1489 - categorical_accuracy: 0.7319 - val_loss: 1.1358 - val_categorical_accuracy: 0.6944\n",
      "Epoch 9/2000\n",
      "22/22 [==============================] - 1s 49ms/step - loss: 1.0880 - categorical_accuracy: 0.7703 - val_loss: 0.9732 - val_categorical_accuracy: 0.8333\n",
      "Epoch 10/2000\n",
      "22/22 [==============================] - 1s 54ms/step - loss: 0.9067 - categorical_accuracy: 0.8427 - val_loss: 0.9023 - val_categorical_accuracy: 0.8611\n",
      "Epoch 11/2000\n",
      "22/22 [==============================] - 1s 47ms/step - loss: 0.8333 - categorical_accuracy: 0.8437 - val_loss: 0.8216 - val_categorical_accuracy: 0.9167\n",
      "Epoch 12/2000\n",
      "22/22 [==============================] - 1s 46ms/step - loss: 0.8982 - categorical_accuracy: 0.7856 - val_loss: 0.7440 - val_categorical_accuracy: 0.8889\n",
      "Epoch 13/2000\n",
      "22/22 [==============================] - 1s 50ms/step - loss: 0.7593 - categorical_accuracy: 0.8312 - val_loss: 0.5647 - val_categorical_accuracy: 0.9444\n",
      "Epoch 14/2000\n",
      "22/22 [==============================] - 1s 48ms/step - loss: 0.6392 - categorical_accuracy: 0.8758 - val_loss: 1.1553 - val_categorical_accuracy: 0.6111\n",
      "Epoch 15/2000\n",
      "22/22 [==============================] - 1s 46ms/step - loss: 0.7998 - categorical_accuracy: 0.8188 - val_loss: 0.5257 - val_categorical_accuracy: 0.9444\n",
      "Epoch 16/2000\n",
      "22/22 [==============================] - 1s 46ms/step - loss: 0.5880 - categorical_accuracy: 0.8982 - val_loss: 0.5706 - val_categorical_accuracy: 0.9167\n",
      "Epoch 17/2000\n",
      "22/22 [==============================] - 1s 46ms/step - loss: 0.5326 - categorical_accuracy: 0.9118 - val_loss: 0.4845 - val_categorical_accuracy: 0.9444\n",
      "Epoch 18/2000\n",
      "22/22 [==============================] - 1s 46ms/step - loss: 0.5641 - categorical_accuracy: 0.8976 - val_loss: 0.4827 - val_categorical_accuracy: 0.9167\n",
      "Epoch 19/2000\n",
      "22/22 [==============================] - 1s 48ms/step - loss: 0.5694 - categorical_accuracy: 0.8788 - val_loss: 0.4758 - val_categorical_accuracy: 0.9444\n",
      "Epoch 20/2000\n",
      "22/22 [==============================] - 1s 48ms/step - loss: 0.5426 - categorical_accuracy: 0.9034 - val_loss: 1.0164 - val_categorical_accuracy: 0.8056\n",
      "Epoch 21/2000\n",
      "22/22 [==============================] - 1s 41ms/step - loss: 0.6090 - categorical_accuracy: 0.9030 - val_loss: 0.4514 - val_categorical_accuracy: 0.9444\n",
      "Epoch 22/2000\n",
      "22/22 [==============================] - 1s 41ms/step - loss: 0.4533 - categorical_accuracy: 0.9511 - val_loss: 0.4670 - val_categorical_accuracy: 0.9167\n",
      "Epoch 23/2000\n",
      "22/22 [==============================] - 1s 42ms/step - loss: 0.8085 - categorical_accuracy: 0.7718 - val_loss: 0.5784 - val_categorical_accuracy: 0.9444\n",
      "Epoch 24/2000\n",
      "22/22 [==============================] - 1s 40ms/step - loss: 0.5147 - categorical_accuracy: 0.9200 - val_loss: 0.4125 - val_categorical_accuracy: 0.9722\n",
      "Epoch 25/2000\n",
      "22/22 [==============================] - 1s 39ms/step - loss: 0.4750 - categorical_accuracy: 0.9349 - val_loss: 0.3825 - val_categorical_accuracy: 0.9722\n",
      "Epoch 26/2000\n",
      "22/22 [==============================] - 1s 40ms/step - loss: 0.4181 - categorical_accuracy: 0.9441 - val_loss: 0.3201 - val_categorical_accuracy: 1.0000\n",
      "Epoch 27/2000\n",
      "22/22 [==============================] - 1s 38ms/step - loss: 0.3648 - categorical_accuracy: 0.9712 - val_loss: 0.3922 - val_categorical_accuracy: 0.9444\n",
      "Epoch 28/2000\n",
      "22/22 [==============================] - 1s 41ms/step - loss: 0.4196 - categorical_accuracy: 0.9330 - val_loss: 0.3894 - val_categorical_accuracy: 0.9444\n",
      "Epoch 29/2000\n",
      "22/22 [==============================] - 1s 39ms/step - loss: 0.3279 - categorical_accuracy: 0.9888 - val_loss: 0.4889 - val_categorical_accuracy: 0.9167\n",
      "Epoch 30/2000\n",
      "22/22 [==============================] - 1s 40ms/step - loss: 0.3234 - categorical_accuracy: 0.9793 - val_loss: 0.2830 - val_categorical_accuracy: 1.0000\n",
      "Epoch 31/2000\n",
      "22/22 [==============================] - 1s 38ms/step - loss: 0.4940 - categorical_accuracy: 0.9041 - val_loss: 0.6905 - val_categorical_accuracy: 0.8056\n",
      "Epoch 32/2000\n",
      "22/22 [==============================] - 1s 43ms/step - loss: 0.5462 - categorical_accuracy: 0.8833 - val_loss: 0.3509 - val_categorical_accuracy: 0.9722\n",
      "Epoch 33/2000\n",
      "22/22 [==============================] - 1s 40ms/step - loss: 0.4034 - categorical_accuracy: 0.9530 - val_loss: 0.2715 - val_categorical_accuracy: 1.0000\n",
      "Epoch 34/2000\n",
      "22/22 [==============================] - 1s 44ms/step - loss: 0.2862 - categorical_accuracy: 0.9846 - val_loss: 0.4816 - val_categorical_accuracy: 0.8611\n",
      "Epoch 35/2000\n",
      "22/22 [==============================] - 1s 39ms/step - loss: 0.3707 - categorical_accuracy: 0.9298 - val_loss: 0.3718 - val_categorical_accuracy: 0.9167\n",
      "Epoch 36/2000\n",
      "22/22 [==============================] - 1s 39ms/step - loss: 0.3130 - categorical_accuracy: 0.9665 - val_loss: 0.2409 - val_categorical_accuracy: 1.0000\n",
      "Epoch 37/2000\n",
      "22/22 [==============================] - 1s 37ms/step - loss: 0.2567 - categorical_accuracy: 0.9974 - val_loss: 0.2404 - val_categorical_accuracy: 1.0000\n",
      "Epoch 38/2000\n",
      "22/22 [==============================] - 1s 38ms/step - loss: 0.2468 - categorical_accuracy: 0.9926 - val_loss: 0.3315 - val_categorical_accuracy: 0.9722\n",
      "Epoch 39/2000\n",
      "22/22 [==============================] - 1s 41ms/step - loss: 0.2468 - categorical_accuracy: 0.9929 - val_loss: 0.2208 - val_categorical_accuracy: 1.0000\n",
      "Epoch 40/2000\n",
      "22/22 [==============================] - 1s 41ms/step - loss: 0.2713 - categorical_accuracy: 0.9817 - val_loss: 0.2214 - val_categorical_accuracy: 1.0000\n",
      "Epoch 41/2000\n",
      "22/22 [==============================] - 1s 39ms/step - loss: 0.2574 - categorical_accuracy: 0.9873 - val_loss: 0.2114 - val_categorical_accuracy: 1.0000\n",
      "Epoch 42/2000\n",
      "22/22 [==============================] - 1s 39ms/step - loss: 0.2616 - categorical_accuracy: 0.9822 - val_loss: 0.5403 - val_categorical_accuracy: 0.8889\n",
      "Epoch 43/2000\n",
      "22/22 [==============================] - 1s 45ms/step - loss: 0.5770 - categorical_accuracy: 0.8627 - val_loss: 0.4872 - val_categorical_accuracy: 0.8611\n",
      "Epoch 44/2000\n",
      "22/22 [==============================] - 1s 48ms/step - loss: 0.3604 - categorical_accuracy: 0.9591 - val_loss: 0.4432 - val_categorical_accuracy: 0.9444\n",
      "Epoch 45/2000\n",
      "22/22 [==============================] - 1s 48ms/step - loss: 0.6876 - categorical_accuracy: 0.8402 - val_loss: 0.3389 - val_categorical_accuracy: 0.9722\n",
      "Epoch 46/2000\n",
      "22/22 [==============================] - 1s 41ms/step - loss: 0.2931 - categorical_accuracy: 0.9763 - val_loss: 0.2318 - val_categorical_accuracy: 0.9722\n",
      "Epoch 47/2000\n",
      "22/22 [==============================] - 1s 39ms/step - loss: 0.2385 - categorical_accuracy: 0.9846 - val_loss: 0.3024 - val_categorical_accuracy: 0.9722\n",
      "Epoch 48/2000\n",
      "22/22 [==============================] - 1s 38ms/step - loss: 0.3302 - categorical_accuracy: 0.9521 - val_loss: 0.1975 - val_categorical_accuracy: 1.0000\n",
      "Epoch 49/2000\n",
      "22/22 [==============================] - 1s 42ms/step - loss: 0.2242 - categorical_accuracy: 0.9926 - val_loss: 0.1953 - val_categorical_accuracy: 1.0000\n",
      "Epoch 50/2000\n",
      "22/22 [==============================] - 1s 41ms/step - loss: 0.2186 - categorical_accuracy: 0.9921 - val_loss: 0.4211 - val_categorical_accuracy: 0.9167\n",
      "Epoch 51/2000\n",
      "22/22 [==============================] - 1s 40ms/step - loss: 0.3670 - categorical_accuracy: 0.9297 - val_loss: 0.7341 - val_categorical_accuracy: 0.8056\n",
      "Epoch 52/2000\n",
      "22/22 [==============================] - 1s 41ms/step - loss: 0.3822 - categorical_accuracy: 0.9315 - val_loss: 0.3160 - val_categorical_accuracy: 0.9444\n",
      "Epoch 53/2000\n",
      "22/22 [==============================] - 1s 41ms/step - loss: 0.2648 - categorical_accuracy: 0.9781 - val_loss: 0.2060 - val_categorical_accuracy: 1.0000\n",
      "Epoch 54/2000\n",
      "22/22 [==============================] - 1s 39ms/step - loss: 0.1980 - categorical_accuracy: 0.9957 - val_loss: 0.1826 - val_categorical_accuracy: 1.0000\n",
      "Epoch 55/2000\n",
      "22/22 [==============================] - 1s 38ms/step - loss: 0.1861 - categorical_accuracy: 0.9984 - val_loss: 0.1827 - val_categorical_accuracy: 1.0000\n",
      "Epoch 56/2000\n",
      "22/22 [==============================] - 1s 43ms/step - loss: 0.1950 - categorical_accuracy: 0.9912 - val_loss: 0.2080 - val_categorical_accuracy: 1.0000\n",
      "Epoch 57/2000\n",
      "22/22 [==============================] - 1s 38ms/step - loss: 0.2265 - categorical_accuracy: 0.9818 - val_loss: 0.1878 - val_categorical_accuracy: 1.0000\n",
      "Epoch 58/2000\n",
      "22/22 [==============================] - 1s 39ms/step - loss: 0.2075 - categorical_accuracy: 0.9865 - val_loss: 0.1729 - val_categorical_accuracy: 1.0000\n",
      "Epoch 59/2000\n",
      "22/22 [==============================] - 1s 39ms/step - loss: 0.1757 - categorical_accuracy: 1.0000 - val_loss: 0.1775 - val_categorical_accuracy: 1.0000\n",
      "Epoch 60/2000\n",
      "22/22 [==============================] - 1s 38ms/step - loss: 0.1705 - categorical_accuracy: 1.0000 - val_loss: 0.1791 - val_categorical_accuracy: 1.0000\n",
      "Epoch 61/2000\n",
      "22/22 [==============================] - 1s 38ms/step - loss: 0.1818 - categorical_accuracy: 0.9929 - val_loss: 0.1732 - val_categorical_accuracy: 1.0000\n",
      "Epoch 62/2000\n",
      "22/22 [==============================] - 1s 42ms/step - loss: 0.1974 - categorical_accuracy: 0.9902 - val_loss: 0.3430 - val_categorical_accuracy: 0.9444\n",
      "Epoch 63/2000\n",
      "22/22 [==============================] - 1s 39ms/step - loss: 0.2407 - categorical_accuracy: 0.9656 - val_loss: 0.1750 - val_categorical_accuracy: 1.0000\n",
      "Epoch 64/2000\n",
      "22/22 [==============================] - 1s 39ms/step - loss: 0.2183 - categorical_accuracy: 0.9841 - val_loss: 0.1914 - val_categorical_accuracy: 1.0000\n",
      "Epoch 65/2000\n",
      "22/22 [==============================] - 1s 40ms/step - loss: 0.1938 - categorical_accuracy: 0.9936 - val_loss: 0.1592 - val_categorical_accuracy: 1.0000\n",
      "Epoch 66/2000\n",
      "22/22 [==============================] - 1s 39ms/step - loss: 0.1679 - categorical_accuracy: 0.9974 - val_loss: 0.1558 - val_categorical_accuracy: 1.0000\n",
      "Epoch 67/2000\n",
      "22/22 [==============================] - 1s 40ms/step - loss: 0.1814 - categorical_accuracy: 0.9870 - val_loss: 0.1874 - val_categorical_accuracy: 0.9722\n",
      "Epoch 68/2000\n",
      "22/22 [==============================] - 1s 42ms/step - loss: 0.2502 - categorical_accuracy: 0.9651 - val_loss: 0.1634 - val_categorical_accuracy: 1.0000\n",
      "Epoch 69/2000\n",
      "22/22 [==============================] - 1s 40ms/step - loss: 0.1949 - categorical_accuracy: 0.9883 - val_loss: 0.2695 - val_categorical_accuracy: 0.9722\n",
      "Epoch 70/2000\n",
      "22/22 [==============================] - 1s 44ms/step - loss: 0.1634 - categorical_accuracy: 0.9995 - val_loss: 0.1663 - val_categorical_accuracy: 1.0000\n",
      "Epoch 71/2000\n",
      "22/22 [==============================] - 1s 42ms/step - loss: 0.1890 - categorical_accuracy: 0.9829 - val_loss: 0.1516 - val_categorical_accuracy: 1.0000\n",
      "Epoch 72/2000\n",
      "22/22 [==============================] - 1s 49ms/step - loss: 0.1644 - categorical_accuracy: 0.9948 - val_loss: 0.1484 - val_categorical_accuracy: 1.0000\n",
      "Epoch 73/2000\n",
      "22/22 [==============================] - 1s 56ms/step - loss: 0.1587 - categorical_accuracy: 0.9978 - val_loss: 0.1528 - val_categorical_accuracy: 1.0000\n",
      "Epoch 74/2000\n",
      "22/22 [==============================] - 1s 43ms/step - loss: 0.1485 - categorical_accuracy: 1.0000 - val_loss: 0.1451 - val_categorical_accuracy: 1.0000\n",
      "Epoch 75/2000\n",
      "22/22 [==============================] - 1s 38ms/step - loss: 0.1472 - categorical_accuracy: 1.0000 - val_loss: 0.1500 - val_categorical_accuracy: 1.0000\n",
      "Epoch 76/2000\n",
      "22/22 [==============================] - 1s 39ms/step - loss: 0.1491 - categorical_accuracy: 0.9982 - val_loss: 0.1428 - val_categorical_accuracy: 1.0000\n",
      "Epoch 77/2000\n",
      "22/22 [==============================] - 1s 39ms/step - loss: 0.1636 - categorical_accuracy: 0.9914 - val_loss: 0.1433 - val_categorical_accuracy: 1.0000\n",
      "Epoch 78/2000\n",
      "22/22 [==============================] - 1s 43ms/step - loss: 0.2358 - categorical_accuracy: 0.9750 - val_loss: 0.2247 - val_categorical_accuracy: 0.9444\n",
      "Epoch 79/2000\n",
      "22/22 [==============================] - 1s 40ms/step - loss: 0.4102 - categorical_accuracy: 0.9168 - val_loss: 1.4338 - val_categorical_accuracy: 0.5556\n",
      "Epoch 80/2000\n",
      "22/22 [==============================] - 1s 38ms/step - loss: 0.5661 - categorical_accuracy: 0.8656 - val_loss: 0.2639 - val_categorical_accuracy: 0.9722\n",
      "Epoch 81/2000\n",
      "22/22 [==============================] - 1s 37ms/step - loss: 0.2179 - categorical_accuracy: 0.9836 - val_loss: 0.1565 - val_categorical_accuracy: 1.0000\n",
      "Epoch 82/2000\n",
      "22/22 [==============================] - 1s 43ms/step - loss: 0.2675 - categorical_accuracy: 0.9639 - val_loss: 0.1530 - val_categorical_accuracy: 1.0000\n",
      "Epoch 83/2000\n",
      "22/22 [==============================] - 1s 41ms/step - loss: 0.4232 - categorical_accuracy: 0.9334 - val_loss: 0.4014 - val_categorical_accuracy: 0.9167\n",
      "Epoch 84/2000\n",
      "22/22 [==============================] - 1s 41ms/step - loss: 0.2736 - categorical_accuracy: 0.9644 - val_loss: 0.1610 - val_categorical_accuracy: 1.0000\n",
      "Epoch 85/2000\n",
      "22/22 [==============================] - 1s 44ms/step - loss: 0.1757 - categorical_accuracy: 0.9924 - val_loss: 0.2796 - val_categorical_accuracy: 0.9444\n",
      "Epoch 86/2000\n",
      "22/22 [==============================] - 1s 51ms/step - loss: 0.2017 - categorical_accuracy: 0.9792 - val_loss: 0.1633 - val_categorical_accuracy: 1.0000\n",
      "Epoch 87/2000\n",
      "22/22 [==============================] - 1s 40ms/step - loss: 0.1568 - categorical_accuracy: 0.9904 - val_loss: 0.1485 - val_categorical_accuracy: 1.0000\n",
      "Epoch 88/2000\n",
      "22/22 [==============================] - 1s 41ms/step - loss: 0.1577 - categorical_accuracy: 0.9948 - val_loss: 0.2384 - val_categorical_accuracy: 0.9722\n",
      "Epoch 89/2000\n",
      "22/22 [==============================] - 1s 43ms/step - loss: 0.1827 - categorical_accuracy: 0.9867 - val_loss: 0.1624 - val_categorical_accuracy: 1.0000\n",
      "Epoch 90/2000\n",
      "22/22 [==============================] - 1s 40ms/step - loss: 0.1643 - categorical_accuracy: 0.9855 - val_loss: 0.1530 - val_categorical_accuracy: 1.0000\n",
      "Epoch 91/2000\n",
      "22/22 [==============================] - 1s 39ms/step - loss: 0.1585 - categorical_accuracy: 0.9919 - val_loss: 0.1332 - val_categorical_accuracy: 1.0000\n",
      "Epoch 92/2000\n",
      "22/22 [==============================] - 1s 41ms/step - loss: 0.1378 - categorical_accuracy: 1.0000 - val_loss: 0.1323 - val_categorical_accuracy: 1.0000\n",
      "Epoch 93/2000\n",
      "22/22 [==============================] - 1s 49ms/step - loss: 0.1346 - categorical_accuracy: 1.0000 - val_loss: 0.1326 - val_categorical_accuracy: 1.0000\n",
      "Epoch 94/2000\n",
      "22/22 [==============================] - 1s 54ms/step - loss: 0.1330 - categorical_accuracy: 1.0000 - val_loss: 0.1324 - val_categorical_accuracy: 1.0000\n",
      "Epoch 95/2000\n",
      "22/22 [==============================] - 1s 46ms/step - loss: 0.1322 - categorical_accuracy: 1.0000 - val_loss: 0.1316 - val_categorical_accuracy: 1.0000\n",
      "Epoch 96/2000\n",
      "22/22 [==============================] - 1s 40ms/step - loss: 0.1311 - categorical_accuracy: 1.0000 - val_loss: 0.1308 - val_categorical_accuracy: 1.0000\n",
      "Epoch 97/2000\n",
      "22/22 [==============================] - 1s 39ms/step - loss: 0.1291 - categorical_accuracy: 1.0000 - val_loss: 0.1303 - val_categorical_accuracy: 1.0000\n",
      "Epoch 98/2000\n",
      "22/22 [==============================] - 1s 39ms/step - loss: 0.1293 - categorical_accuracy: 1.0000 - val_loss: 0.1294 - val_categorical_accuracy: 1.0000\n",
      "Epoch 99/2000\n",
      "22/22 [==============================] - 1s 47ms/step - loss: 0.1280 - categorical_accuracy: 1.0000 - val_loss: 0.1288 - val_categorical_accuracy: 1.0000\n",
      "Epoch 100/2000\n",
      "22/22 [==============================] - 1s 42ms/step - loss: 0.1278 - categorical_accuracy: 1.0000 - val_loss: 0.1282 - val_categorical_accuracy: 1.0000\n",
      "Epoch 101/2000\n",
      "22/22 [==============================] - 1s 40ms/step - loss: 0.1267 - categorical_accuracy: 1.0000 - val_loss: 0.1270 - val_categorical_accuracy: 1.0000\n",
      "Epoch 102/2000\n",
      "22/22 [==============================] - 1s 42ms/step - loss: 0.1263 - categorical_accuracy: 1.0000 - val_loss: 0.1266 - val_categorical_accuracy: 1.0000\n",
      "Epoch 103/2000\n",
      "22/22 [==============================] - 1s 42ms/step - loss: 0.1256 - categorical_accuracy: 1.0000 - val_loss: 0.1262 - val_categorical_accuracy: 1.0000\n",
      "Epoch 104/2000\n"
     ]
    },
    {
     "ename": "KeyboardInterrupt",
     "evalue": "",
     "output_type": "error",
     "traceback": [
      "\u001b[1;31m---------------------------------------------------------------------------\u001b[0m",
      "\u001b[1;31mKeyboardInterrupt\u001b[0m                         Traceback (most recent call last)",
      "\u001b[1;32m<ipython-input-8-794c3a7c9556>\u001b[0m in \u001b[0;36m<module>\u001b[1;34m\u001b[0m\n\u001b[1;32m----> 1\u001b[1;33m \u001b[0mmodel\u001b[0m\u001b[1;33m.\u001b[0m\u001b[0mfit\u001b[0m\u001b[1;33m(\u001b[0m\u001b[0mX_train\u001b[0m\u001b[1;33m,\u001b[0m \u001b[0my_train\u001b[0m\u001b[1;33m,\u001b[0m \u001b[0mepochs\u001b[0m\u001b[1;33m=\u001b[0m\u001b[1;36m2000\u001b[0m\u001b[1;33m,\u001b[0m \u001b[0mvalidation_data\u001b[0m\u001b[1;33m=\u001b[0m\u001b[1;33m(\u001b[0m\u001b[0mX_test\u001b[0m\u001b[1;33m,\u001b[0m \u001b[0my_test\u001b[0m\u001b[1;33m)\u001b[0m\u001b[1;33m,\u001b[0m \u001b[0mcallbacks\u001b[0m\u001b[1;33m=\u001b[0m\u001b[1;33m[\u001b[0m\u001b[0mtb_callback\u001b[0m\u001b[1;33m]\u001b[0m\u001b[1;33m,\u001b[0m \u001b[0mshuffle\u001b[0m\u001b[1;33m=\u001b[0m\u001b[1;32mTrue\u001b[0m\u001b[1;33m)\u001b[0m\u001b[1;33m\u001b[0m\u001b[1;33m\u001b[0m\u001b[0m\n\u001b[0m",
      "\u001b[1;32md:\\Anaconda\\package\\lib\\site-packages\\tensorflow\\python\\keras\\engine\\training.py\u001b[0m in \u001b[0;36mfit\u001b[1;34m(self, x, y, batch_size, epochs, verbose, callbacks, validation_split, validation_data, shuffle, class_weight, sample_weight, initial_epoch, steps_per_epoch, validation_steps, validation_batch_size, validation_freq, max_queue_size, workers, use_multiprocessing)\u001b[0m\n\u001b[0;32m   1098\u001b[0m                 _r=1):\n\u001b[0;32m   1099\u001b[0m               \u001b[0mcallbacks\u001b[0m\u001b[1;33m.\u001b[0m\u001b[0mon_train_batch_begin\u001b[0m\u001b[1;33m(\u001b[0m\u001b[0mstep\u001b[0m\u001b[1;33m)\u001b[0m\u001b[1;33m\u001b[0m\u001b[1;33m\u001b[0m\u001b[0m\n\u001b[1;32m-> 1100\u001b[1;33m               \u001b[0mtmp_logs\u001b[0m \u001b[1;33m=\u001b[0m \u001b[0mself\u001b[0m\u001b[1;33m.\u001b[0m\u001b[0mtrain_function\u001b[0m\u001b[1;33m(\u001b[0m\u001b[0miterator\u001b[0m\u001b[1;33m)\u001b[0m\u001b[1;33m\u001b[0m\u001b[1;33m\u001b[0m\u001b[0m\n\u001b[0m\u001b[0;32m   1101\u001b[0m               \u001b[1;32mif\u001b[0m \u001b[0mdata_handler\u001b[0m\u001b[1;33m.\u001b[0m\u001b[0mshould_sync\u001b[0m\u001b[1;33m:\u001b[0m\u001b[1;33m\u001b[0m\u001b[1;33m\u001b[0m\u001b[0m\n\u001b[0;32m   1102\u001b[0m                 \u001b[0mcontext\u001b[0m\u001b[1;33m.\u001b[0m\u001b[0masync_wait\u001b[0m\u001b[1;33m(\u001b[0m\u001b[1;33m)\u001b[0m\u001b[1;33m\u001b[0m\u001b[1;33m\u001b[0m\u001b[0m\n",
      "\u001b[1;32md:\\Anaconda\\package\\lib\\site-packages\\tensorflow\\python\\eager\\def_function.py\u001b[0m in \u001b[0;36m__call__\u001b[1;34m(self, *args, **kwds)\u001b[0m\n\u001b[0;32m    826\u001b[0m     \u001b[0mtracing_count\u001b[0m \u001b[1;33m=\u001b[0m \u001b[0mself\u001b[0m\u001b[1;33m.\u001b[0m\u001b[0mexperimental_get_tracing_count\u001b[0m\u001b[1;33m(\u001b[0m\u001b[1;33m)\u001b[0m\u001b[1;33m\u001b[0m\u001b[1;33m\u001b[0m\u001b[0m\n\u001b[0;32m    827\u001b[0m     \u001b[1;32mwith\u001b[0m \u001b[0mtrace\u001b[0m\u001b[1;33m.\u001b[0m\u001b[0mTrace\u001b[0m\u001b[1;33m(\u001b[0m\u001b[0mself\u001b[0m\u001b[1;33m.\u001b[0m\u001b[0m_name\u001b[0m\u001b[1;33m)\u001b[0m \u001b[1;32mas\u001b[0m \u001b[0mtm\u001b[0m\u001b[1;33m:\u001b[0m\u001b[1;33m\u001b[0m\u001b[1;33m\u001b[0m\u001b[0m\n\u001b[1;32m--> 828\u001b[1;33m       \u001b[0mresult\u001b[0m \u001b[1;33m=\u001b[0m \u001b[0mself\u001b[0m\u001b[1;33m.\u001b[0m\u001b[0m_call\u001b[0m\u001b[1;33m(\u001b[0m\u001b[1;33m*\u001b[0m\u001b[0margs\u001b[0m\u001b[1;33m,\u001b[0m \u001b[1;33m**\u001b[0m\u001b[0mkwds\u001b[0m\u001b[1;33m)\u001b[0m\u001b[1;33m\u001b[0m\u001b[1;33m\u001b[0m\u001b[0m\n\u001b[0m\u001b[0;32m    829\u001b[0m       \u001b[0mcompiler\u001b[0m \u001b[1;33m=\u001b[0m \u001b[1;34m\"xla\"\u001b[0m \u001b[1;32mif\u001b[0m \u001b[0mself\u001b[0m\u001b[1;33m.\u001b[0m\u001b[0m_experimental_compile\u001b[0m \u001b[1;32melse\u001b[0m \u001b[1;34m\"nonXla\"\u001b[0m\u001b[1;33m\u001b[0m\u001b[1;33m\u001b[0m\u001b[0m\n\u001b[0;32m    830\u001b[0m       \u001b[0mnew_tracing_count\u001b[0m \u001b[1;33m=\u001b[0m \u001b[0mself\u001b[0m\u001b[1;33m.\u001b[0m\u001b[0mexperimental_get_tracing_count\u001b[0m\u001b[1;33m(\u001b[0m\u001b[1;33m)\u001b[0m\u001b[1;33m\u001b[0m\u001b[1;33m\u001b[0m\u001b[0m\n",
      "\u001b[1;32md:\\Anaconda\\package\\lib\\site-packages\\tensorflow\\python\\eager\\def_function.py\u001b[0m in \u001b[0;36m_call\u001b[1;34m(self, *args, **kwds)\u001b[0m\n\u001b[0;32m    853\u001b[0m       \u001b[1;31m# In this case we have created variables on the first call, so we run the\u001b[0m\u001b[1;33m\u001b[0m\u001b[1;33m\u001b[0m\u001b[1;33m\u001b[0m\u001b[0m\n\u001b[0;32m    854\u001b[0m       \u001b[1;31m# defunned version which is guaranteed to never create variables.\u001b[0m\u001b[1;33m\u001b[0m\u001b[1;33m\u001b[0m\u001b[1;33m\u001b[0m\u001b[0m\n\u001b[1;32m--> 855\u001b[1;33m       \u001b[1;32mreturn\u001b[0m \u001b[0mself\u001b[0m\u001b[1;33m.\u001b[0m\u001b[0m_stateless_fn\u001b[0m\u001b[1;33m(\u001b[0m\u001b[1;33m*\u001b[0m\u001b[0margs\u001b[0m\u001b[1;33m,\u001b[0m \u001b[1;33m**\u001b[0m\u001b[0mkwds\u001b[0m\u001b[1;33m)\u001b[0m  \u001b[1;31m# pylint: disable=not-callable\u001b[0m\u001b[1;33m\u001b[0m\u001b[1;33m\u001b[0m\u001b[0m\n\u001b[0m\u001b[0;32m    856\u001b[0m     \u001b[1;32melif\u001b[0m \u001b[0mself\u001b[0m\u001b[1;33m.\u001b[0m\u001b[0m_stateful_fn\u001b[0m \u001b[1;32mis\u001b[0m \u001b[1;32mnot\u001b[0m \u001b[1;32mNone\u001b[0m\u001b[1;33m:\u001b[0m\u001b[1;33m\u001b[0m\u001b[1;33m\u001b[0m\u001b[0m\n\u001b[0;32m    857\u001b[0m       \u001b[1;31m# Release the lock early so that multiple threads can perform the call\u001b[0m\u001b[1;33m\u001b[0m\u001b[1;33m\u001b[0m\u001b[1;33m\u001b[0m\u001b[0m\n",
      "\u001b[1;32md:\\Anaconda\\package\\lib\\site-packages\\tensorflow\\python\\eager\\function.py\u001b[0m in \u001b[0;36m__call__\u001b[1;34m(self, *args, **kwargs)\u001b[0m\n\u001b[0;32m   2940\u001b[0m       (graph_function,\n\u001b[0;32m   2941\u001b[0m        filtered_flat_args) = self._maybe_define_function(args, kwargs)\n\u001b[1;32m-> 2942\u001b[1;33m     return graph_function._call_flat(\n\u001b[0m\u001b[0;32m   2943\u001b[0m         filtered_flat_args, captured_inputs=graph_function.captured_inputs)  # pylint: disable=protected-access\n\u001b[0;32m   2944\u001b[0m \u001b[1;33m\u001b[0m\u001b[0m\n",
      "\u001b[1;32md:\\Anaconda\\package\\lib\\site-packages\\tensorflow\\python\\eager\\function.py\u001b[0m in \u001b[0;36m_call_flat\u001b[1;34m(self, args, captured_inputs, cancellation_manager)\u001b[0m\n\u001b[0;32m   1916\u001b[0m         and executing_eagerly):\n\u001b[0;32m   1917\u001b[0m       \u001b[1;31m# No tape is watching; skip to running the function.\u001b[0m\u001b[1;33m\u001b[0m\u001b[1;33m\u001b[0m\u001b[1;33m\u001b[0m\u001b[0m\n\u001b[1;32m-> 1918\u001b[1;33m       return self._build_call_outputs(self._inference_function.call(\n\u001b[0m\u001b[0;32m   1919\u001b[0m           ctx, args, cancellation_manager=cancellation_manager))\n\u001b[0;32m   1920\u001b[0m     forward_backward = self._select_forward_and_backward_functions(\n",
      "\u001b[1;32md:\\Anaconda\\package\\lib\\site-packages\\tensorflow\\python\\eager\\function.py\u001b[0m in \u001b[0;36mcall\u001b[1;34m(self, ctx, args, cancellation_manager)\u001b[0m\n\u001b[0;32m    553\u001b[0m       \u001b[1;32mwith\u001b[0m \u001b[0m_InterpolateFunctionError\u001b[0m\u001b[1;33m(\u001b[0m\u001b[0mself\u001b[0m\u001b[1;33m)\u001b[0m\u001b[1;33m:\u001b[0m\u001b[1;33m\u001b[0m\u001b[1;33m\u001b[0m\u001b[0m\n\u001b[0;32m    554\u001b[0m         \u001b[1;32mif\u001b[0m \u001b[0mcancellation_manager\u001b[0m \u001b[1;32mis\u001b[0m \u001b[1;32mNone\u001b[0m\u001b[1;33m:\u001b[0m\u001b[1;33m\u001b[0m\u001b[1;33m\u001b[0m\u001b[0m\n\u001b[1;32m--> 555\u001b[1;33m           outputs = execute.execute(\n\u001b[0m\u001b[0;32m    556\u001b[0m               \u001b[0mstr\u001b[0m\u001b[1;33m(\u001b[0m\u001b[0mself\u001b[0m\u001b[1;33m.\u001b[0m\u001b[0msignature\u001b[0m\u001b[1;33m.\u001b[0m\u001b[0mname\u001b[0m\u001b[1;33m)\u001b[0m\u001b[1;33m,\u001b[0m\u001b[1;33m\u001b[0m\u001b[1;33m\u001b[0m\u001b[0m\n\u001b[0;32m    557\u001b[0m               \u001b[0mnum_outputs\u001b[0m\u001b[1;33m=\u001b[0m\u001b[0mself\u001b[0m\u001b[1;33m.\u001b[0m\u001b[0m_num_outputs\u001b[0m\u001b[1;33m,\u001b[0m\u001b[1;33m\u001b[0m\u001b[1;33m\u001b[0m\u001b[0m\n",
      "\u001b[1;32md:\\Anaconda\\package\\lib\\site-packages\\tensorflow\\python\\eager\\execute.py\u001b[0m in \u001b[0;36mquick_execute\u001b[1;34m(op_name, num_outputs, inputs, attrs, ctx, name)\u001b[0m\n\u001b[0;32m     57\u001b[0m   \u001b[1;32mtry\u001b[0m\u001b[1;33m:\u001b[0m\u001b[1;33m\u001b[0m\u001b[1;33m\u001b[0m\u001b[0m\n\u001b[0;32m     58\u001b[0m     \u001b[0mctx\u001b[0m\u001b[1;33m.\u001b[0m\u001b[0mensure_initialized\u001b[0m\u001b[1;33m(\u001b[0m\u001b[1;33m)\u001b[0m\u001b[1;33m\u001b[0m\u001b[1;33m\u001b[0m\u001b[0m\n\u001b[1;32m---> 59\u001b[1;33m     tensors = pywrap_tfe.TFE_Py_Execute(ctx._handle, device_name, op_name,\n\u001b[0m\u001b[0;32m     60\u001b[0m                                         inputs, attrs, num_outputs)\n\u001b[0;32m     61\u001b[0m   \u001b[1;32mexcept\u001b[0m \u001b[0mcore\u001b[0m\u001b[1;33m.\u001b[0m\u001b[0m_NotOkStatusException\u001b[0m \u001b[1;32mas\u001b[0m \u001b[0me\u001b[0m\u001b[1;33m:\u001b[0m\u001b[1;33m\u001b[0m\u001b[1;33m\u001b[0m\u001b[0m\n",
      "\u001b[1;31mKeyboardInterrupt\u001b[0m: "
     ]
    }
   ],
   "source": [
    "model.fit(X_train, y_train, epochs=2000, validation_data=(X_test, y_test), callbacks=[tb_callback], shuffle=True)"
   ]
  },
  {
   "cell_type": "code",
   "execution_count": 9,
   "metadata": {},
   "outputs": [
    {
     "data": {
      "image/png": "[encoded data removed]",
      "text/plain": [
       "<Figure size 432x288 with 1 Axes>"
      ]
     },
     "metadata": {
      "needs_background": "light"
     },
     "output_type": "display_data"
    }
   ],
   "source": [
    "plt.plot(model.history.history['loss'])\n",
    "plt.plot(model.history.history['val_loss'])\n",
    "plt.title('model train vs validation loss')\n",
    "plt.ylabel('loss')\n",
    "plt.xlabel('epoch')\n",
    "plt.legend(['train', 'validation'], loc='upper right')\n",
    "plt.show()"
   ]
  },
  {
   "cell_type": "code",
   "execution_count": 10,
   "metadata": {},
   "outputs": [
    {
     "data": {
      "image/png": "[encoded data removed]",
      "text/plain": [
       "<Figure size 432x288 with 1 Axes>"
      ]
     },
     "metadata": {
      "needs_background": "light"
     },
     "output_type": "display_data"
    }
   ],
   "source": [
    "plt.plot(model.history.history['categorical_accuracy'])\n",
    "plt.plot(model.history.history['val_categorical_accuracy'])\n",
    "plt.title('model train vs validation accuracy')\n",
    "plt.ylabel('accuracy')\n",
    "plt.xlabel('epoch')\n",
    "plt.legend(['train', 'validation'], loc='lower right')\n",
    "plt.show()"
   ]
  },
  {
   "cell_type": "code",
   "execution_count": 11,
   "metadata": {},
   "outputs": [
    {
     "name": "stdout",
     "output_type": "stream",
     "text": [
      "Model: \"sequential\"\n",
      "_________________________________________________________________\n",
      "Layer (type)                 Output Shape              Param #   \n",
      "=================================================================\n",
      "lstm (LSTM)                  (None, 15, 64)            48896     \n",
      "_________________________________________________________________\n",
      "lstm_1 (LSTM)                (None, 15, 128)           98816     \n",
      "_________________________________________________________________\n",
      "lstm_2 (LSTM)                (None, 64)                49408     \n",
      "_________________________________________________________________\n",
      "dense (Dense)                (None, 64)                4160      \n",
      "_________________________________________________________________\n",
      "dense_1 (Dense)              (None, 32)                2080      \n",
      "_________________________________________________________________\n",
      "dense_2 (Dense)              (None, 6)                 198       \n",
      "=================================================================\n",
      "Total params: 203,558\n",
      "Trainable params: 203,558\n",
      "Non-trainable params: 0\n",
      "_________________________________________________________________\n"
     ]
    }
   ],
   "source": [
    "model.summary()"
   ]
  },
  {
   "cell_type": "code",
   "execution_count": 12,
   "metadata": {},
   "outputs": [],
   "source": [
    "model.save('actionhalf.h5')"
   ]
  }
 ],
 "metadata": {
  "interpreter": {
   "hash": "82825393be7ae2a8568206bd1048679d891758bd592a19c94c4ea62e67f1dc60"
  },
  "kernelspec": {
   "display_name": "Python 3.8.3 ('base')",
   "language": "python",
   "name": "python3"
  },
  "language_info": {
   "codemirror_mode": {
    "name": "ipython",
    "version": 3
   },
   "file_extension": ".py",
   "mimetype": "text/x-python",
   "name": "python",
   "nbconvert_exporter": "python",
   "pygments_lexer": "ipython3",
   "version": "3.8.3"
  },
  "orig_nbformat": 4
 },
 "nbformat": 4,
 "nbformat_minor": 2
}
